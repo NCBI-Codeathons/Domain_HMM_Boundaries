{
 "cells": [
  {
   "cell_type": "markdown",
   "metadata": {},
   "source": [
    "# Analysis of contigs mapped to viral CDDs\n"
   ]
  },
  {
   "cell_type": "markdown",
   "metadata": {},
   "source": [
    "We used contigs assemnbled using SKESA from ~3000 SRR metagenomes. These metagenomes were selected based on its viral content. See [here](https://github.com/NCBI-Hackathons/VirusDiscoveryProject/tree/master/DataSelection) for details on how these metagenomes were selected. Thesse contigs were then used as queries to search using RPSTBLASTN against CDD database that had been filtered to only have viral specific CDDs. These list were also generated in previous hackathon. See [here](https://github.com/NCBI-Hackathons/VirusDiscoveryProject/tree/master/DomainLabeling/RPSTBLN/CDDlabels) for the list the ids. "
   ]
  },
  {
   "cell_type": "code",
   "execution_count": 1,
   "metadata": {},
   "outputs": [],
   "source": [
    "# importing relvant python packages\n",
    "import pandas as pd\n",
    "import seaborn as sns\n",
    "import sklearn.decomposition\n",
    "import matplotlib.pyplot as plt"
   ]
  },
  {
   "cell_type": "markdown",
   "metadata": {},
   "source": [
    "Read in the rps blast result dataframe and parse information on contig lengths"
   ]
  },
  {
   "cell_type": "code",
   "execution_count": 2,
   "metadata": {},
   "outputs": [
    {
     "name": "stderr",
     "output_type": "stream",
     "text": [
      "/opt/tljh/user/lib/python3.6/site-packages/numpy/lib/arraysetops.py:568: FutureWarning: elementwise comparison failed; returning scalar instead, but in the future will perform elementwise comparison\n",
      "  mask |= (ar1 == a)\n"
     ]
    },
    {
     "data": {
      "text/html": [
       "<div>\n",
       "<style scoped>\n",
       "    .dataframe tbody tr th:only-of-type {\n",
       "        vertical-align: middle;\n",
       "    }\n",
       "\n",
       "    .dataframe tbody tr th {\n",
       "        vertical-align: top;\n",
       "    }\n",
       "\n",
       "    .dataframe thead th {\n",
       "        text-align: right;\n",
       "    }\n",
       "</style>\n",
       "<table border=\"1\" class=\"dataframe\">\n",
       "  <thead>\n",
       "    <tr style=\"text-align: right;\">\n",
       "      <th></th>\n",
       "      <th>contig_id</th>\n",
       "      <th>CDD</th>\n",
       "      <th>pident</th>\n",
       "      <th>length</th>\n",
       "      <th>mismatch</th>\n",
       "      <th>gapopen</th>\n",
       "      <th>qstart</th>\n",
       "      <th>qend</th>\n",
       "      <th>sstart</th>\n",
       "      <th>send</th>\n",
       "      <th>evalue</th>\n",
       "      <th>bitscore</th>\n",
       "      <th>SRR</th>\n",
       "      <th>contig_id_only</th>\n",
       "      <th>contig_length</th>\n",
       "    </tr>\n",
       "  </thead>\n",
       "  <tbody>\n",
       "    <tr>\n",
       "      <th>0</th>\n",
       "      <td>Contig_262_136.931:1.131564</td>\n",
       "      <td>CDD:280594</td>\n",
       "      <td>30.769</td>\n",
       "      <td>78</td>\n",
       "      <td>42</td>\n",
       "      <td>3</td>\n",
       "      <td>7338</td>\n",
       "      <td>7111</td>\n",
       "      <td>66</td>\n",
       "      <td>133</td>\n",
       "      <td>1.170000e-04</td>\n",
       "      <td>41.0</td>\n",
       "      <td>SRR4451607</td>\n",
       "      <td>Contig_262_136.931</td>\n",
       "      <td>131564</td>\n",
       "    </tr>\n",
       "    <tr>\n",
       "      <th>1</th>\n",
       "      <td>Contig_321_123.726:1.12237</td>\n",
       "      <td>CDD:222861</td>\n",
       "      <td>38.528</td>\n",
       "      <td>231</td>\n",
       "      <td>131</td>\n",
       "      <td>3</td>\n",
       "      <td>5068</td>\n",
       "      <td>5739</td>\n",
       "      <td>1</td>\n",
       "      <td>227</td>\n",
       "      <td>1.040000e-47</td>\n",
       "      <td>162.0</td>\n",
       "      <td>SRR4451607</td>\n",
       "      <td>Contig_321_123.726</td>\n",
       "      <td>12237</td>\n",
       "    </tr>\n",
       "    <tr>\n",
       "      <th>2</th>\n",
       "      <td>Contig_325_135.454:1.51712</td>\n",
       "      <td>CDD:222804</td>\n",
       "      <td>26.087</td>\n",
       "      <td>69</td>\n",
       "      <td>50</td>\n",
       "      <td>1</td>\n",
       "      <td>31540</td>\n",
       "      <td>31337</td>\n",
       "      <td>94</td>\n",
       "      <td>162</td>\n",
       "      <td>2.680000e-04</td>\n",
       "      <td>38.3</td>\n",
       "      <td>SRR4451607</td>\n",
       "      <td>Contig_325_135.454</td>\n",
       "      <td>51712</td>\n",
       "    </tr>\n",
       "    <tr>\n",
       "      <th>3</th>\n",
       "      <td>NC_019445.1_3:1.15349</td>\n",
       "      <td>CDD:283078</td>\n",
       "      <td>91.379</td>\n",
       "      <td>58</td>\n",
       "      <td>5</td>\n",
       "      <td>0</td>\n",
       "      <td>14004</td>\n",
       "      <td>14177</td>\n",
       "      <td>1</td>\n",
       "      <td>58</td>\n",
       "      <td>3.460000e-27</td>\n",
       "      <td>97.9</td>\n",
       "      <td>SRR4451607</td>\n",
       "      <td>NC_019445.1_3</td>\n",
       "      <td>15349</td>\n",
       "    </tr>\n",
       "    <tr>\n",
       "      <th>4</th>\n",
       "      <td>Contig_17_145.65:1.11778</td>\n",
       "      <td>CDD:165469</td>\n",
       "      <td>47.489</td>\n",
       "      <td>219</td>\n",
       "      <td>106</td>\n",
       "      <td>4</td>\n",
       "      <td>9292</td>\n",
       "      <td>8645</td>\n",
       "      <td>99</td>\n",
       "      <td>311</td>\n",
       "      <td>6.620000e-73</td>\n",
       "      <td>238.0</td>\n",
       "      <td>SRR4451607</td>\n",
       "      <td>Contig_17_145.65</td>\n",
       "      <td>11778</td>\n",
       "    </tr>\n",
       "  </tbody>\n",
       "</table>\n",
       "</div>"
      ],
      "text/plain": [
       "                     contig_id         CDD  pident  length  mismatch  gapopen  \\\n",
       "0  Contig_262_136.931:1.131564  CDD:280594  30.769      78        42        3   \n",
       "1   Contig_321_123.726:1.12237  CDD:222861  38.528     231       131        3   \n",
       "2   Contig_325_135.454:1.51712  CDD:222804  26.087      69        50        1   \n",
       "3        NC_019445.1_3:1.15349  CDD:283078  91.379      58         5        0   \n",
       "4     Contig_17_145.65:1.11778  CDD:165469  47.489     219       106        4   \n",
       "\n",
       "   qstart   qend  sstart  send        evalue  bitscore         SRR  \\\n",
       "0    7338   7111      66   133  1.170000e-04      41.0  SRR4451607   \n",
       "1    5068   5739       1   227  1.040000e-47     162.0  SRR4451607   \n",
       "2   31540  31337      94   162  2.680000e-04      38.3  SRR4451607   \n",
       "3   14004  14177       1    58  3.460000e-27      97.9  SRR4451607   \n",
       "4    9292   8645      99   311  6.620000e-73     238.0  SRR4451607   \n",
       "\n",
       "       contig_id_only contig_length  \n",
       "0  Contig_262_136.931        131564  \n",
       "1  Contig_321_123.726         12237  \n",
       "2  Contig_325_135.454         51712  \n",
       "3       NC_019445.1_3         15349  \n",
       "4    Contig_17_145.65         11778  "
      ]
     },
     "execution_count": 2,
     "metadata": {},
     "output_type": "execute_result"
    }
   ],
   "source": [
    "rps_cdd_df = pd.read_csv(\"cdd_data_forindex_original.tsv\", sep=\"\\t\", index_col=0)\n",
    "rps_cdd_df[['contig_id_only','start_end']] = rps_cdd_df['contig_id'].str.split(\":\", expand=True) \n",
    "rps_cdd_df[['cstart', 'contig_length']] = rps_cdd_df['start_end'].str.split(\".\", expand=True)\n",
    "rps_cdd_df = rps_cdd_df.drop(['start_end', 'cstart'], axis=1)\n",
    "rps_cdd_df.head()\n"
   ]
  },
  {
   "cell_type": "code",
   "execution_count": 3,
   "metadata": {},
   "outputs": [
    {
     "data": {
      "text/html": [
       "<div>\n",
       "<style scoped>\n",
       "    .dataframe tbody tr th:only-of-type {\n",
       "        vertical-align: middle;\n",
       "    }\n",
       "\n",
       "    .dataframe tbody tr th {\n",
       "        vertical-align: top;\n",
       "    }\n",
       "\n",
       "    .dataframe thead th {\n",
       "        text-align: right;\n",
       "    }\n",
       "</style>\n",
       "<table border=\"1\" class=\"dataframe\">\n",
       "  <thead>\n",
       "    <tr style=\"text-align: right;\">\n",
       "      <th></th>\n",
       "      <th>cdd_per_contigs</th>\n",
       "    </tr>\n",
       "    <tr>\n",
       "      <th>contig_id</th>\n",
       "      <th></th>\n",
       "    </tr>\n",
       "  </thead>\n",
       "  <tbody>\n",
       "    <tr>\n",
       "      <th>AB126192.2:1.2363</th>\n",
       "      <td>4</td>\n",
       "    </tr>\n",
       "    <tr>\n",
       "      <th>AB126195.1:1.1807</th>\n",
       "      <td>1</td>\n",
       "    </tr>\n",
       "    <tr>\n",
       "      <th>AF086833.2:1.18959</th>\n",
       "      <td>39</td>\n",
       "    </tr>\n",
       "    <tr>\n",
       "      <th>AF144300.1:1.2341</th>\n",
       "      <td>1</td>\n",
       "    </tr>\n",
       "    <tr>\n",
       "      <th>AF144301.1:1.2341</th>\n",
       "      <td>3</td>\n",
       "    </tr>\n",
       "  </tbody>\n",
       "</table>\n",
       "</div>"
      ],
      "text/plain": [
       "                    cdd_per_contigs\n",
       "contig_id                          \n",
       "AB126192.2:1.2363                 4\n",
       "AB126195.1:1.1807                 1\n",
       "AF086833.2:1.18959               39\n",
       "AF144300.1:1.2341                 1\n",
       "AF144301.1:1.2341                 3"
      ]
     },
     "execution_count": 3,
     "metadata": {},
     "output_type": "execute_result"
    }
   ],
   "source": [
    "# getting the table with number of CDD hits per contig\n",
    "cdd_percontig = pd.DataFrame(rps_cdd_df.groupby(by='contig_id').size())\n",
    "cdd_percontig = cdd_percontig.rename(columns={0:\"cdd_per_contigs\"})\n",
    "cdd_percontig.head()\n"
   ]
  },
  {
   "cell_type": "code",
   "execution_count": 4,
   "metadata": {},
   "outputs": [
    {
     "data": {
      "text/plain": [
       "(5606754, 1)"
      ]
     },
     "execution_count": 4,
     "metadata": {},
     "output_type": "execute_result"
    }
   ],
   "source": [
    "# Number of contigs that were processed\n",
    "cdd_percontig.shape"
   ]
  },
  {
   "cell_type": "code",
   "execution_count": 5,
   "metadata": {},
   "outputs": [
    {
     "data": {
      "text/html": [
       "<div>\n",
       "<style scoped>\n",
       "    .dataframe tbody tr th:only-of-type {\n",
       "        vertical-align: middle;\n",
       "    }\n",
       "\n",
       "    .dataframe tbody tr th {\n",
       "        vertical-align: top;\n",
       "    }\n",
       "\n",
       "    .dataframe thead th {\n",
       "        text-align: right;\n",
       "    }\n",
       "</style>\n",
       "<table border=\"1\" class=\"dataframe\">\n",
       "  <thead>\n",
       "    <tr style=\"text-align: right;\">\n",
       "      <th></th>\n",
       "      <th>cdd_per_contigs</th>\n",
       "    </tr>\n",
       "    <tr>\n",
       "      <th>contig_id</th>\n",
       "      <th></th>\n",
       "    </tr>\n",
       "  </thead>\n",
       "  <tbody>\n",
       "    <tr>\n",
       "      <th>NC_003663.2:1.224499</th>\n",
       "      <td>36768</td>\n",
       "    </tr>\n",
       "    <tr>\n",
       "      <th>NC_006560.1:1.150715</th>\n",
       "      <td>26448</td>\n",
       "    </tr>\n",
       "    <tr>\n",
       "      <th>NC_003310.1:1.196858</th>\n",
       "      <td>21168</td>\n",
       "    </tr>\n",
       "    <tr>\n",
       "      <th>NC_001716.2:1.153080</th>\n",
       "      <td>9632</td>\n",
       "    </tr>\n",
       "    <tr>\n",
       "      <th>NC_005336.1:1.139962</th>\n",
       "      <td>7968</td>\n",
       "    </tr>\n",
       "    <tr>\n",
       "      <th>NC_001798.2:1.154675</th>\n",
       "      <td>6993</td>\n",
       "    </tr>\n",
       "    <tr>\n",
       "      <th>NC_001806.2:1.152222</th>\n",
       "      <td>6955</td>\n",
       "    </tr>\n",
       "    <tr>\n",
       "      <th>NC_001664.3:1.159321</th>\n",
       "      <td>6815</td>\n",
       "    </tr>\n",
       "    <tr>\n",
       "      <th>NC_001611.1:1.185578</th>\n",
       "      <td>6270</td>\n",
       "    </tr>\n",
       "    <tr>\n",
       "      <th>NC_009333.1:1.137969</th>\n",
       "      <td>5618</td>\n",
       "    </tr>\n",
       "  </tbody>\n",
       "</table>\n",
       "</div>"
      ],
      "text/plain": [
       "                      cdd_per_contigs\n",
       "contig_id                            \n",
       "NC_003663.2:1.224499            36768\n",
       "NC_006560.1:1.150715            26448\n",
       "NC_003310.1:1.196858            21168\n",
       "NC_001716.2:1.153080             9632\n",
       "NC_005336.1:1.139962             7968\n",
       "NC_001798.2:1.154675             6993\n",
       "NC_001806.2:1.152222             6955\n",
       "NC_001664.3:1.159321             6815\n",
       "NC_001611.1:1.185578             6270\n",
       "NC_009333.1:1.137969             5618"
      ]
     },
     "execution_count": 5,
     "metadata": {},
     "output_type": "execute_result"
    }
   ],
   "source": [
    "# Top 10 contig with highest hit\n",
    "cdd_percontig.sort_values(['cdd_per_contigs'], ascending=False).head(n=10)"
   ]
  },
  {
   "cell_type": "code",
   "execution_count": 6,
   "metadata": {},
   "outputs": [
    {
     "data": {
      "text/html": [
       "<div>\n",
       "<style scoped>\n",
       "    .dataframe tbody tr th:only-of-type {\n",
       "        vertical-align: middle;\n",
       "    }\n",
       "\n",
       "    .dataframe tbody tr th {\n",
       "        vertical-align: top;\n",
       "    }\n",
       "\n",
       "    .dataframe thead th {\n",
       "        text-align: right;\n",
       "    }\n",
       "</style>\n",
       "<table border=\"1\" class=\"dataframe\">\n",
       "  <thead>\n",
       "    <tr style=\"text-align: right;\">\n",
       "      <th></th>\n",
       "      <th>CDD</th>\n",
       "      <th>pident</th>\n",
       "      <th>length</th>\n",
       "      <th>mismatch</th>\n",
       "      <th>gapopen</th>\n",
       "      <th>qstart</th>\n",
       "      <th>qend</th>\n",
       "      <th>sstart</th>\n",
       "      <th>send</th>\n",
       "      <th>evalue</th>\n",
       "      <th>bitscore</th>\n",
       "      <th>SRR</th>\n",
       "      <th>contig_id_only</th>\n",
       "      <th>contig_length</th>\n",
       "      <th>cdd_per_contigs</th>\n",
       "      <th>cdd_per_kb</th>\n",
       "    </tr>\n",
       "    <tr>\n",
       "      <th>contig_id</th>\n",
       "      <th></th>\n",
       "      <th></th>\n",
       "      <th></th>\n",
       "      <th></th>\n",
       "      <th></th>\n",
       "      <th></th>\n",
       "      <th></th>\n",
       "      <th></th>\n",
       "      <th></th>\n",
       "      <th></th>\n",
       "      <th></th>\n",
       "      <th></th>\n",
       "      <th></th>\n",
       "      <th></th>\n",
       "      <th></th>\n",
       "      <th></th>\n",
       "    </tr>\n",
       "  </thead>\n",
       "  <tbody>\n",
       "    <tr>\n",
       "      <th>AB126192.2:1.2363</th>\n",
       "      <td>CDD:278997</td>\n",
       "      <td>68.114</td>\n",
       "      <td>737</td>\n",
       "      <td>230</td>\n",
       "      <td>3</td>\n",
       "      <td>18</td>\n",
       "      <td>2228</td>\n",
       "      <td>1</td>\n",
       "      <td>732</td>\n",
       "      <td>0.000000e+00</td>\n",
       "      <td>1232.0</td>\n",
       "      <td>ERR1121418</td>\n",
       "      <td>AB126192.2</td>\n",
       "      <td>2363</td>\n",
       "      <td>4</td>\n",
       "      <td>1.692763</td>\n",
       "    </tr>\n",
       "    <tr>\n",
       "      <th>AB126192.2:1.2363</th>\n",
       "      <td>CDD:282102</td>\n",
       "      <td>17.718</td>\n",
       "      <td>333</td>\n",
       "      <td>221</td>\n",
       "      <td>14</td>\n",
       "      <td>780</td>\n",
       "      <td>1676</td>\n",
       "      <td>373</td>\n",
       "      <td>686</td>\n",
       "      <td>1.970000e-09</td>\n",
       "      <td>50.9</td>\n",
       "      <td>ERR1121418</td>\n",
       "      <td>AB126192.2</td>\n",
       "      <td>2363</td>\n",
       "      <td>4</td>\n",
       "      <td>1.692763</td>\n",
       "    </tr>\n",
       "    <tr>\n",
       "      <th>AB126192.2:1.2363</th>\n",
       "      <td>CDD:278997</td>\n",
       "      <td>68.114</td>\n",
       "      <td>737</td>\n",
       "      <td>230</td>\n",
       "      <td>3</td>\n",
       "      <td>18</td>\n",
       "      <td>2228</td>\n",
       "      <td>1</td>\n",
       "      <td>732</td>\n",
       "      <td>0.000000e+00</td>\n",
       "      <td>1232.0</td>\n",
       "      <td>SRR5940707</td>\n",
       "      <td>AB126192.2</td>\n",
       "      <td>2363</td>\n",
       "      <td>4</td>\n",
       "      <td>1.692763</td>\n",
       "    </tr>\n",
       "    <tr>\n",
       "      <th>AB126192.2:1.2363</th>\n",
       "      <td>CDD:282102</td>\n",
       "      <td>17.718</td>\n",
       "      <td>333</td>\n",
       "      <td>221</td>\n",
       "      <td>14</td>\n",
       "      <td>780</td>\n",
       "      <td>1676</td>\n",
       "      <td>373</td>\n",
       "      <td>686</td>\n",
       "      <td>1.970000e-09</td>\n",
       "      <td>50.9</td>\n",
       "      <td>SRR5940707</td>\n",
       "      <td>AB126192.2</td>\n",
       "      <td>2363</td>\n",
       "      <td>4</td>\n",
       "      <td>1.692763</td>\n",
       "    </tr>\n",
       "    <tr>\n",
       "      <th>AB126195.1:1.1807</th>\n",
       "      <td>CDD:278907</td>\n",
       "      <td>23.301</td>\n",
       "      <td>515</td>\n",
       "      <td>354</td>\n",
       "      <td>16</td>\n",
       "      <td>39</td>\n",
       "      <td>1547</td>\n",
       "      <td>28</td>\n",
       "      <td>513</td>\n",
       "      <td>2.720000e-32</td>\n",
       "      <td>121.0</td>\n",
       "      <td>ERR1121418</td>\n",
       "      <td>AB126195.1</td>\n",
       "      <td>1807</td>\n",
       "      <td>1</td>\n",
       "      <td>0.553403</td>\n",
       "    </tr>\n",
       "  </tbody>\n",
       "</table>\n",
       "</div>"
      ],
      "text/plain": [
       "                          CDD  pident  length  mismatch  gapopen  qstart  \\\n",
       "contig_id                                                                  \n",
       "AB126192.2:1.2363  CDD:278997  68.114     737       230        3      18   \n",
       "AB126192.2:1.2363  CDD:282102  17.718     333       221       14     780   \n",
       "AB126192.2:1.2363  CDD:278997  68.114     737       230        3      18   \n",
       "AB126192.2:1.2363  CDD:282102  17.718     333       221       14     780   \n",
       "AB126195.1:1.1807  CDD:278907  23.301     515       354       16      39   \n",
       "\n",
       "                   qend  sstart  send        evalue  bitscore         SRR  \\\n",
       "contig_id                                                                   \n",
       "AB126192.2:1.2363  2228       1   732  0.000000e+00    1232.0  ERR1121418   \n",
       "AB126192.2:1.2363  1676     373   686  1.970000e-09      50.9  ERR1121418   \n",
       "AB126192.2:1.2363  2228       1   732  0.000000e+00    1232.0  SRR5940707   \n",
       "AB126192.2:1.2363  1676     373   686  1.970000e-09      50.9  SRR5940707   \n",
       "AB126195.1:1.1807  1547      28   513  2.720000e-32     121.0  ERR1121418   \n",
       "\n",
       "                  contig_id_only  contig_length  cdd_per_contigs  cdd_per_kb  \n",
       "contig_id                                                                     \n",
       "AB126192.2:1.2363     AB126192.2           2363                4    1.692763  \n",
       "AB126192.2:1.2363     AB126192.2           2363                4    1.692763  \n",
       "AB126192.2:1.2363     AB126192.2           2363                4    1.692763  \n",
       "AB126192.2:1.2363     AB126192.2           2363                4    1.692763  \n",
       "AB126195.1:1.1807     AB126195.1           1807                1    0.553403  "
      ]
     },
     "execution_count": 6,
     "metadata": {},
     "output_type": "execute_result"
    }
   ],
   "source": [
    "# adding a column with density of CDD per 1Kb\n",
    "\n",
    "# generating a separate table\n",
    "rps_cdd_df_index = rps_cdd_df\n",
    "# converting a column to index\n",
    "rps_cdd_df_index.index = rps_cdd_df['contig_id']\n",
    "rps_cdd_df_index = rps_cdd_df_index.drop(columns=[\"contig_id\"])\n",
    "rps_cdd_df_density = rps_cdd_df_index.merge(cdd_percontig, how=\"left\", left_index=True, right_index=True)\n",
    "rps_cdd_df_density['contig_length'] = rps_cdd_df_density['contig_length'].astype(int)\n",
    "rps_cdd_df_density['cdd_per_contigs'] = rps_cdd_df_density['cdd_per_contigs'].astype(int)\n",
    "rps_cdd_df_density['cdd_per_kb'] = (rps_cdd_df_density['cdd_per_contigs']/rps_cdd_df_density['contig_length'])*1000\n",
    "rps_cdd_df_density.head()"
   ]
  },
  {
   "cell_type": "markdown",
   "metadata": {},
   "source": [
    "Distribution of number of CDD per 1 KB"
   ]
  },
  {
   "cell_type": "code",
   "execution_count": 14,
   "metadata": {},
   "outputs": [
    {
     "data": {
      "text/plain": [
       "<matplotlib.axes._subplots.AxesSubplot at 0x7f236d94ee80>"
      ]
     },
     "execution_count": 14,
     "metadata": {},
     "output_type": "execute_result"
    },
    {
     "data": {
      "image/png": "[encoded data removed]",
      "text/plain": [
       "<Figure size 842.4x595.44 with 1 Axes>"
      ]
     },
     "metadata": {},
     "output_type": "display_data"
    }
   ],
   "source": [
    "# plt_dist_den = rps_cdd_df_density['cdd_per_kb'].plot.hist(bins=25, log=True)\n",
    "# plt_dist_den.set_xlabel(\"CDD per 1 KB\")\n",
    "# plt_dist_den\n",
    "sns.set(rc={'figure.figsize':(11.7,8.27)})\n",
    "sns.distplot(rps_cdd_df_density['cdd_per_kb'])"
   ]
  },
  {
   "cell_type": "code",
   "execution_count": 8,
   "metadata": {},
   "outputs": [
    {
     "data": {
      "text/plain": [
       "SRR        CDD       \n",
       "DRR019508  CDD:106901     1\n",
       "           CDD:106954     3\n",
       "           CDD:106959     1\n",
       "           CDD:106962     2\n",
       "           CDD:106966    15\n",
       "dtype: int64"
      ]
     },
     "execution_count": 8,
     "metadata": {},
     "output_type": "execute_result"
    }
   ],
   "source": [
    "# count the number of CDDs per SRR ids\n",
    "srr_cdd_df = rps_cdd_df_density[[\"CDD\", \"SRR\"]]\n",
    "srr_cdd_df.head()\n",
    "srr_cdd_count = srr_cdd_df.groupby(['SRR', 'CDD']).size()\n",
    "srr_cdd_count.head()"
   ]
  },
  {
   "cell_type": "code",
   "execution_count": 10,
   "metadata": {},
   "outputs": [
    {
     "data": {
      "text/html": [
       "<div>\n",
       "<style scoped>\n",
       "    .dataframe tbody tr th:only-of-type {\n",
       "        vertical-align: middle;\n",
       "    }\n",
       "\n",
       "    .dataframe tbody tr th {\n",
       "        vertical-align: top;\n",
       "    }\n",
       "\n",
       "    .dataframe thead th {\n",
       "        text-align: right;\n",
       "    }\n",
       "</style>\n",
       "<table border=\"1\" class=\"dataframe\">\n",
       "  <thead>\n",
       "    <tr style=\"text-align: right;\">\n",
       "      <th>CDD</th>\n",
       "      <th>CDD:106880</th>\n",
       "      <th>CDD:106886</th>\n",
       "      <th>CDD:106901</th>\n",
       "      <th>CDD:106954</th>\n",
       "      <th>CDD:106959</th>\n",
       "      <th>CDD:106962</th>\n",
       "      <th>CDD:106963</th>\n",
       "      <th>CDD:106964</th>\n",
       "      <th>CDD:106966</th>\n",
       "      <th>CDD:106967</th>\n",
       "      <th>...</th>\n",
       "      <th>CDD:337153</th>\n",
       "      <th>CDD:337290</th>\n",
       "      <th>CDD:337301</th>\n",
       "      <th>CDD:337327</th>\n",
       "      <th>CDD:337835</th>\n",
       "      <th>CDD:337865</th>\n",
       "      <th>CDD:70500</th>\n",
       "      <th>CDD:72144</th>\n",
       "      <th>CDD:72147</th>\n",
       "      <th>CDD:72614</th>\n",
       "    </tr>\n",
       "    <tr>\n",
       "      <th>SRR</th>\n",
       "      <th></th>\n",
       "      <th></th>\n",
       "      <th></th>\n",
       "      <th></th>\n",
       "      <th></th>\n",
       "      <th></th>\n",
       "      <th></th>\n",
       "      <th></th>\n",
       "      <th></th>\n",
       "      <th></th>\n",
       "      <th></th>\n",
       "      <th></th>\n",
       "      <th></th>\n",
       "      <th></th>\n",
       "      <th></th>\n",
       "      <th></th>\n",
       "      <th></th>\n",
       "      <th></th>\n",
       "      <th></th>\n",
       "      <th></th>\n",
       "      <th></th>\n",
       "    </tr>\n",
       "  </thead>\n",
       "  <tbody>\n",
       "    <tr>\n",
       "      <th>DRR019508</th>\n",
       "      <td>0.0</td>\n",
       "      <td>0.0</td>\n",
       "      <td>1.0</td>\n",
       "      <td>3.0</td>\n",
       "      <td>1.0</td>\n",
       "      <td>2.0</td>\n",
       "      <td>0.0</td>\n",
       "      <td>0.0</td>\n",
       "      <td>15.0</td>\n",
       "      <td>7.0</td>\n",
       "      <td>...</td>\n",
       "      <td>0.0</td>\n",
       "      <td>0.0</td>\n",
       "      <td>0.0</td>\n",
       "      <td>7.0</td>\n",
       "      <td>0.0</td>\n",
       "      <td>1.0</td>\n",
       "      <td>0.0</td>\n",
       "      <td>1.0</td>\n",
       "      <td>0.0</td>\n",
       "      <td>0.0</td>\n",
       "    </tr>\n",
       "    <tr>\n",
       "      <th>DRR027576</th>\n",
       "      <td>0.0</td>\n",
       "      <td>0.0</td>\n",
       "      <td>0.0</td>\n",
       "      <td>0.0</td>\n",
       "      <td>0.0</td>\n",
       "      <td>0.0</td>\n",
       "      <td>0.0</td>\n",
       "      <td>0.0</td>\n",
       "      <td>1.0</td>\n",
       "      <td>1.0</td>\n",
       "      <td>...</td>\n",
       "      <td>0.0</td>\n",
       "      <td>0.0</td>\n",
       "      <td>0.0</td>\n",
       "      <td>0.0</td>\n",
       "      <td>0.0</td>\n",
       "      <td>0.0</td>\n",
       "      <td>0.0</td>\n",
       "      <td>0.0</td>\n",
       "      <td>0.0</td>\n",
       "      <td>0.0</td>\n",
       "    </tr>\n",
       "    <tr>\n",
       "      <th>DRR027577</th>\n",
       "      <td>0.0</td>\n",
       "      <td>0.0</td>\n",
       "      <td>0.0</td>\n",
       "      <td>0.0</td>\n",
       "      <td>0.0</td>\n",
       "      <td>0.0</td>\n",
       "      <td>0.0</td>\n",
       "      <td>0.0</td>\n",
       "      <td>2.0</td>\n",
       "      <td>0.0</td>\n",
       "      <td>...</td>\n",
       "      <td>0.0</td>\n",
       "      <td>0.0</td>\n",
       "      <td>0.0</td>\n",
       "      <td>0.0</td>\n",
       "      <td>0.0</td>\n",
       "      <td>1.0</td>\n",
       "      <td>0.0</td>\n",
       "      <td>0.0</td>\n",
       "      <td>0.0</td>\n",
       "      <td>0.0</td>\n",
       "    </tr>\n",
       "    <tr>\n",
       "      <th>DRR027588</th>\n",
       "      <td>0.0</td>\n",
       "      <td>0.0</td>\n",
       "      <td>0.0</td>\n",
       "      <td>0.0</td>\n",
       "      <td>0.0</td>\n",
       "      <td>0.0</td>\n",
       "      <td>0.0</td>\n",
       "      <td>0.0</td>\n",
       "      <td>2.0</td>\n",
       "      <td>0.0</td>\n",
       "      <td>...</td>\n",
       "      <td>1.0</td>\n",
       "      <td>0.0</td>\n",
       "      <td>0.0</td>\n",
       "      <td>2.0</td>\n",
       "      <td>0.0</td>\n",
       "      <td>1.0</td>\n",
       "      <td>0.0</td>\n",
       "      <td>0.0</td>\n",
       "      <td>0.0</td>\n",
       "      <td>0.0</td>\n",
       "    </tr>\n",
       "    <tr>\n",
       "      <th>DRR042075</th>\n",
       "      <td>0.0</td>\n",
       "      <td>0.0</td>\n",
       "      <td>0.0</td>\n",
       "      <td>0.0</td>\n",
       "      <td>0.0</td>\n",
       "      <td>0.0</td>\n",
       "      <td>0.0</td>\n",
       "      <td>0.0</td>\n",
       "      <td>0.0</td>\n",
       "      <td>0.0</td>\n",
       "      <td>...</td>\n",
       "      <td>0.0</td>\n",
       "      <td>0.0</td>\n",
       "      <td>0.0</td>\n",
       "      <td>0.0</td>\n",
       "      <td>0.0</td>\n",
       "      <td>0.0</td>\n",
       "      <td>0.0</td>\n",
       "      <td>0.0</td>\n",
       "      <td>0.0</td>\n",
       "      <td>0.0</td>\n",
       "    </tr>\n",
       "  </tbody>\n",
       "</table>\n",
       "<p>5 rows × 2079 columns</p>\n",
       "</div>"
      ],
      "text/plain": [
       "CDD        CDD:106880  CDD:106886  CDD:106901  CDD:106954  CDD:106959  \\\n",
       "SRR                                                                     \n",
       "DRR019508         0.0         0.0         1.0         3.0         1.0   \n",
       "DRR027576         0.0         0.0         0.0         0.0         0.0   \n",
       "DRR027577         0.0         0.0         0.0         0.0         0.0   \n",
       "DRR027588         0.0         0.0         0.0         0.0         0.0   \n",
       "DRR042075         0.0         0.0         0.0         0.0         0.0   \n",
       "\n",
       "CDD        CDD:106962  CDD:106963  CDD:106964  CDD:106966  CDD:106967  ...  \\\n",
       "SRR                                                                    ...   \n",
       "DRR019508         2.0         0.0         0.0        15.0         7.0  ...   \n",
       "DRR027576         0.0         0.0         0.0         1.0         1.0  ...   \n",
       "DRR027577         0.0         0.0         0.0         2.0         0.0  ...   \n",
       "DRR027588         0.0         0.0         0.0         2.0         0.0  ...   \n",
       "DRR042075         0.0         0.0         0.0         0.0         0.0  ...   \n",
       "\n",
       "CDD        CDD:337153  CDD:337290  CDD:337301  CDD:337327  CDD:337835  \\\n",
       "SRR                                                                     \n",
       "DRR019508         0.0         0.0         0.0         7.0         0.0   \n",
       "DRR027576         0.0         0.0         0.0         0.0         0.0   \n",
       "DRR027577         0.0         0.0         0.0         0.0         0.0   \n",
       "DRR027588         1.0         0.0         0.0         2.0         0.0   \n",
       "DRR042075         0.0         0.0         0.0         0.0         0.0   \n",
       "\n",
       "CDD        CDD:337865  CDD:70500  CDD:72144  CDD:72147  CDD:72614  \n",
       "SRR                                                                \n",
       "DRR019508         1.0        0.0        1.0        0.0        0.0  \n",
       "DRR027576         0.0        0.0        0.0        0.0        0.0  \n",
       "DRR027577         1.0        0.0        0.0        0.0        0.0  \n",
       "DRR027588         1.0        0.0        0.0        0.0        0.0  \n",
       "DRR042075         0.0        0.0        0.0        0.0        0.0  \n",
       "\n",
       "[5 rows x 2079 columns]"
      ]
     },
     "execution_count": 10,
     "metadata": {},
     "output_type": "execute_result"
    }
   ],
   "source": [
    "# pivot the table to sample as index and then CDD ids as coumn header\n",
    "srr_cdd_table = pd.DataFrame(srr_cdd_count).reset_index()\n",
    "\n",
    "srr_cdd_pivot_table = srr_cdd_table.pivot(index=\"SRR\", columns=\"CDD\", values=0).fillna(0)\n",
    "srr_cdd_pivot_table.head()"
   ]
  },
  {
   "cell_type": "code",
   "execution_count": 29,
   "metadata": {},
   "outputs": [
    {
     "data": {
      "text/plain": [
       "<matplotlib.axes._subplots.AxesSubplot at 0x7f231462e6a0>"
      ]
     },
     "execution_count": 29,
     "metadata": {},
     "output_type": "execute_result"
    },
    {
     "data": {
      "image/png": "[encoded data removed]",
      "text/plain": [
       "<Figure size 842.4x595.44 with 1 Axes>"
      ]
     },
     "metadata": {},
     "output_type": "display_data"
    }
   ],
   "source": [
    "# distribution of number of CDDs per sample\n",
    "sns.distplot(srr_cdd_pivot_table.sum(axis=1), bins=70)\n",
    "\n",
    "# sns.clustermap(srr_cdd_pivot_table)"
   ]
  },
  {
   "cell_type": "code",
   "execution_count": 33,
   "metadata": {},
   "outputs": [
    {
     "data": {
      "text/plain": [
       "SRR\n",
       "ERR1823512    32291.0\n",
       "ERR2726432    30317.0\n",
       "SRR5678966    26792.0\n",
       "ERR2227809    25101.0\n",
       "SRR5115412    23780.0\n",
       "ERR1539547    23520.0\n",
       "ERR982823     22381.0\n",
       "ERR1879297    22107.0\n",
       "SRR7686842    22037.0\n",
       "SRR5813532    21883.0\n",
       "SRR6747737    21371.0\n",
       "ERR1539472    21130.0\n",
       "SRR6323390    20760.0\n",
       "ERR1711665    20412.0\n",
       "ERR1711796    20145.0\n",
       "SRR2910722    19586.0\n",
       "ERR209830     19462.0\n",
       "SRR6041132    19451.0\n",
       "ERR260259     19342.0\n",
       "SRR3479770    19324.0\n",
       "ERR675589     19313.0\n",
       "ERR1539670    19085.0\n",
       "SRR5813404    18915.0\n",
       "ERR247160     18465.0\n",
       "SRR5650164    18440.0\n",
       "dtype: float64"
      ]
     },
     "execution_count": 33,
     "metadata": {},
     "output_type": "execute_result"
    }
   ],
   "source": [
    "# Top 25 SRR with most CDD hits( not unique CDD hits)\n",
    "srr_cdd_pivot_table.sum(axis=1).sort_values(ascending=False).head(n=25)"
   ]
  },
  {
   "cell_type": "code",
   "execution_count": 41,
   "metadata": {},
   "outputs": [],
   "source": [
    "srr_cdd_pivot_table[srr_cdd_pivot_table.sum(axis = 1) > 1]\n",
    "filtered_srr_cds = srr_cdd_pivot_table[srr_cdd_pivot_table.sum(axis = 1) > 1]"
   ]
  },
  {
   "cell_type": "code",
   "execution_count": 43,
   "metadata": {},
   "outputs": [
    {
     "data": {
      "text/html": [
       "<div>\n",
       "<style scoped>\n",
       "    .dataframe tbody tr th:only-of-type {\n",
       "        vertical-align: middle;\n",
       "    }\n",
       "\n",
       "    .dataframe tbody tr th {\n",
       "        vertical-align: top;\n",
       "    }\n",
       "\n",
       "    .dataframe thead th {\n",
       "        text-align: right;\n",
       "    }\n",
       "</style>\n",
       "<table border=\"1\" class=\"dataframe\">\n",
       "  <thead>\n",
       "    <tr style=\"text-align: right;\">\n",
       "      <th></th>\n",
       "      <th>PCA1</th>\n",
       "      <th>PCA2</th>\n",
       "      <th>SRR</th>\n",
       "    </tr>\n",
       "  </thead>\n",
       "  <tbody>\n",
       "    <tr>\n",
       "      <th>0</th>\n",
       "      <td>4.789478</td>\n",
       "      <td>227.149189</td>\n",
       "      <td>DRR019508</td>\n",
       "    </tr>\n",
       "    <tr>\n",
       "      <th>1</th>\n",
       "      <td>-285.615686</td>\n",
       "      <td>-50.535943</td>\n",
       "      <td>DRR027576</td>\n",
       "    </tr>\n",
       "    <tr>\n",
       "      <th>2</th>\n",
       "      <td>-278.325727</td>\n",
       "      <td>-49.349589</td>\n",
       "      <td>DRR027577</td>\n",
       "    </tr>\n",
       "    <tr>\n",
       "      <th>3</th>\n",
       "      <td>-185.286257</td>\n",
       "      <td>-31.136539</td>\n",
       "      <td>DRR027588</td>\n",
       "    </tr>\n",
       "    <tr>\n",
       "      <th>4</th>\n",
       "      <td>-298.621725</td>\n",
       "      <td>-71.511030</td>\n",
       "      <td>DRR042075</td>\n",
       "    </tr>\n",
       "  </tbody>\n",
       "</table>\n",
       "</div>"
      ],
      "text/plain": [
       "         PCA1        PCA2        SRR\n",
       "0    4.789478  227.149189  DRR019508\n",
       "1 -285.615686  -50.535943  DRR027576\n",
       "2 -278.325727  -49.349589  DRR027577\n",
       "3 -185.286257  -31.136539  DRR027588\n",
       "4 -298.621725  -71.511030  DRR042075"
      ]
     },
     "execution_count": 43,
     "metadata": {},
     "output_type": "execute_result"
    }
   ],
   "source": [
    "# Perform the PCA again retaining only the top 2 components\n",
    "sklearn_pca = sklearn.decomposition.PCA(n_components=2)\n",
    "\n",
    "\n",
    "sklearn_pca.fit(filtered_srr_cds)\n",
    "\n",
    "# # Project the data into this 2D space and convert it back to a tidy dataframe\n",
    "df_2D = pd.DataFrame(sklearn_pca.transform(filtered_srr_cds),\n",
    "                      columns=['PCA1', 'PCA2'])\n",
    "\n",
    "# # Create a column for species name\n",
    "df_2D['SRR'] = filtered_srr_cds.index\n",
    "\n",
    "# # Look at the result\n",
    "df_2D.head()"
   ]
  },
  {
   "cell_type": "code",
   "execution_count": 44,
   "metadata": {},
   "outputs": [
    {
     "name": "stderr",
     "output_type": "stream",
     "text": [
      "No handles with labels found to put in legend.\n"
     ]
    },
    {
     "data": {
      "text/plain": [
       "Text(0, 0.5, 'PCA 2')"
      ]
     },
     "execution_count": 44,
     "metadata": {},
     "output_type": "execute_result"
    },
    {
     "data": {
      "image/png": "[encoded data removed]",
      "text/plain": [
       "<Figure size 842.4x595.44 with 1 Axes>"
      ]
     },
     "metadata": {},
     "output_type": "display_data"
    }
   ],
   "source": [
    "\n",
    "\n",
    "# Tidy up plot\n",
    "plt.plot(df_2D.PCA1, df_2D.PCA2, 'o', alpha=0.7)\n",
    "plt.legend(loc=0)\n",
    "plt.margins(0.05)\n",
    "plt.xlabel('PCA 1')\n",
    "plt.ylabel('PCA 2')"
   ]
  },
  {
   "cell_type": "code",
   "execution_count": 13,
   "metadata": {},
   "outputs": [
    {
     "ename": "TypeError",
     "evalue": "int() argument must be a string, a bytes-like object or a number, not 'DataFrame'",
     "output_type": "error",
     "traceback": [
      "\u001b[0;31m---------------------------------------------------------------------------\u001b[0m",
      "\u001b[0;31mTypeError\u001b[0m                                 Traceback (most recent call last)",
      "\u001b[0;32m/opt/tljh/user/lib/python3.6/site-packages/pandas/core/groupby/groupby.py\u001b[0m in \u001b[0;36mapply\u001b[0;34m(self, func, *args, **kwargs)\u001b[0m\n\u001b[1;32m    724\u001b[0m             \u001b[0;32mtry\u001b[0m\u001b[0;34m:\u001b[0m\u001b[0;34m\u001b[0m\u001b[0;34m\u001b[0m\u001b[0m\n\u001b[0;32m--> 725\u001b[0;31m                 \u001b[0mresult\u001b[0m \u001b[0;34m=\u001b[0m \u001b[0mself\u001b[0m\u001b[0;34m.\u001b[0m\u001b[0m_python_apply_general\u001b[0m\u001b[0;34m(\u001b[0m\u001b[0mf\u001b[0m\u001b[0;34m)\u001b[0m\u001b[0;34m\u001b[0m\u001b[0;34m\u001b[0m\u001b[0m\n\u001b[0m\u001b[1;32m    726\u001b[0m             \u001b[0;32mexcept\u001b[0m \u001b[0mException\u001b[0m\u001b[0;34m:\u001b[0m\u001b[0;34m\u001b[0m\u001b[0;34m\u001b[0m\u001b[0m\n",
      "\u001b[0;32m/opt/tljh/user/lib/python3.6/site-packages/pandas/core/groupby/groupby.py\u001b[0m in \u001b[0;36m_python_apply_general\u001b[0;34m(self, f)\u001b[0m\n\u001b[1;32m    741\u001b[0m     \u001b[0;32mdef\u001b[0m \u001b[0m_python_apply_general\u001b[0m\u001b[0;34m(\u001b[0m\u001b[0mself\u001b[0m\u001b[0;34m,\u001b[0m \u001b[0mf\u001b[0m\u001b[0;34m)\u001b[0m\u001b[0;34m:\u001b[0m\u001b[0;34m\u001b[0m\u001b[0;34m\u001b[0m\u001b[0m\n\u001b[0;32m--> 742\u001b[0;31m         \u001b[0mkeys\u001b[0m\u001b[0;34m,\u001b[0m \u001b[0mvalues\u001b[0m\u001b[0;34m,\u001b[0m \u001b[0mmutated\u001b[0m \u001b[0;34m=\u001b[0m \u001b[0mself\u001b[0m\u001b[0;34m.\u001b[0m\u001b[0mgrouper\u001b[0m\u001b[0;34m.\u001b[0m\u001b[0mapply\u001b[0m\u001b[0;34m(\u001b[0m\u001b[0mf\u001b[0m\u001b[0;34m,\u001b[0m \u001b[0mself\u001b[0m\u001b[0;34m.\u001b[0m\u001b[0m_selected_obj\u001b[0m\u001b[0;34m,\u001b[0m \u001b[0mself\u001b[0m\u001b[0;34m.\u001b[0m\u001b[0maxis\u001b[0m\u001b[0;34m)\u001b[0m\u001b[0;34m\u001b[0m\u001b[0;34m\u001b[0m\u001b[0m\n\u001b[0m\u001b[1;32m    743\u001b[0m \u001b[0;34m\u001b[0m\u001b[0m\n",
      "\u001b[0;32m/opt/tljh/user/lib/python3.6/site-packages/pandas/core/groupby/ops.py\u001b[0m in \u001b[0;36mapply\u001b[0;34m(self, f, data, axis)\u001b[0m\n\u001b[1;32m    236\u001b[0m             \u001b[0mgroup_axes\u001b[0m \u001b[0;34m=\u001b[0m \u001b[0m_get_axes\u001b[0m\u001b[0;34m(\u001b[0m\u001b[0mgroup\u001b[0m\u001b[0;34m)\u001b[0m\u001b[0;34m\u001b[0m\u001b[0;34m\u001b[0m\u001b[0m\n\u001b[0;32m--> 237\u001b[0;31m             \u001b[0mres\u001b[0m \u001b[0;34m=\u001b[0m \u001b[0mf\u001b[0m\u001b[0;34m(\u001b[0m\u001b[0mgroup\u001b[0m\u001b[0;34m)\u001b[0m\u001b[0;34m\u001b[0m\u001b[0;34m\u001b[0m\u001b[0m\n\u001b[0m\u001b[1;32m    238\u001b[0m             \u001b[0;32mif\u001b[0m \u001b[0;32mnot\u001b[0m \u001b[0m_is_indexed_like\u001b[0m\u001b[0;34m(\u001b[0m\u001b[0mres\u001b[0m\u001b[0;34m,\u001b[0m \u001b[0mgroup_axes\u001b[0m\u001b[0;34m)\u001b[0m\u001b[0;34m:\u001b[0m\u001b[0;34m\u001b[0m\u001b[0;34m\u001b[0m\u001b[0m\n",
      "\u001b[0;31mTypeError\u001b[0m: int() argument must be a string, a bytes-like object or a number, not 'DataFrame'",
      "\nDuring handling of the above exception, another exception occurred:\n",
      "\u001b[0;31mTypeError\u001b[0m                                 Traceback (most recent call last)",
      "\u001b[0;32m<ipython-input-13-6871c29a7733>\u001b[0m in \u001b[0;36m<module>\u001b[0;34m\u001b[0m\n\u001b[0;32m----> 1\u001b[0;31m \u001b[0ma\u001b[0m\u001b[0;34m.\u001b[0m\u001b[0mgroupby\u001b[0m\u001b[0;34m(\u001b[0m\u001b[0;34m[\u001b[0m\u001b[0;34m'SRR'\u001b[0m\u001b[0;34m,\u001b[0m \u001b[0;34m'CDD'\u001b[0m\u001b[0;34m]\u001b[0m\u001b[0;34m)\u001b[0m\u001b[0;34m.\u001b[0m\u001b[0mapply\u001b[0m\u001b[0;34m(\u001b[0m\u001b[0mint\u001b[0m\u001b[0;34m)\u001b[0m\u001b[0;34m.\u001b[0m\u001b[0mto_dic\u001b[0m\u001b[0;34m(\u001b[0m\u001b[0;34m)\u001b[0m\u001b[0;34m\u001b[0m\u001b[0;34m\u001b[0m\u001b[0m\n\u001b[0m",
      "\u001b[0;32m/opt/tljh/user/lib/python3.6/site-packages/pandas/core/groupby/groupby.py\u001b[0m in \u001b[0;36mapply\u001b[0;34m(self, func, *args, **kwargs)\u001b[0m\n\u001b[1;32m    735\u001b[0m \u001b[0;34m\u001b[0m\u001b[0m\n\u001b[1;32m    736\u001b[0m                 \u001b[0;32mwith\u001b[0m \u001b[0m_group_selection_context\u001b[0m\u001b[0;34m(\u001b[0m\u001b[0mself\u001b[0m\u001b[0;34m)\u001b[0m\u001b[0;34m:\u001b[0m\u001b[0;34m\u001b[0m\u001b[0;34m\u001b[0m\u001b[0m\n\u001b[0;32m--> 737\u001b[0;31m                     \u001b[0;32mreturn\u001b[0m \u001b[0mself\u001b[0m\u001b[0;34m.\u001b[0m\u001b[0m_python_apply_general\u001b[0m\u001b[0;34m(\u001b[0m\u001b[0mf\u001b[0m\u001b[0;34m)\u001b[0m\u001b[0;34m\u001b[0m\u001b[0;34m\u001b[0m\u001b[0m\n\u001b[0m\u001b[1;32m    738\u001b[0m \u001b[0;34m\u001b[0m\u001b[0m\n\u001b[1;32m    739\u001b[0m         \u001b[0;32mreturn\u001b[0m \u001b[0mresult\u001b[0m\u001b[0;34m\u001b[0m\u001b[0;34m\u001b[0m\u001b[0m\n",
      "\u001b[0;32m/opt/tljh/user/lib/python3.6/site-packages/pandas/core/groupby/groupby.py\u001b[0m in \u001b[0;36m_python_apply_general\u001b[0;34m(self, f)\u001b[0m\n\u001b[1;32m    740\u001b[0m \u001b[0;34m\u001b[0m\u001b[0m\n\u001b[1;32m    741\u001b[0m     \u001b[0;32mdef\u001b[0m \u001b[0m_python_apply_general\u001b[0m\u001b[0;34m(\u001b[0m\u001b[0mself\u001b[0m\u001b[0;34m,\u001b[0m \u001b[0mf\u001b[0m\u001b[0;34m)\u001b[0m\u001b[0;34m:\u001b[0m\u001b[0;34m\u001b[0m\u001b[0;34m\u001b[0m\u001b[0m\n\u001b[0;32m--> 742\u001b[0;31m         \u001b[0mkeys\u001b[0m\u001b[0;34m,\u001b[0m \u001b[0mvalues\u001b[0m\u001b[0;34m,\u001b[0m \u001b[0mmutated\u001b[0m \u001b[0;34m=\u001b[0m \u001b[0mself\u001b[0m\u001b[0;34m.\u001b[0m\u001b[0mgrouper\u001b[0m\u001b[0;34m.\u001b[0m\u001b[0mapply\u001b[0m\u001b[0;34m(\u001b[0m\u001b[0mf\u001b[0m\u001b[0;34m,\u001b[0m \u001b[0mself\u001b[0m\u001b[0;34m.\u001b[0m\u001b[0m_selected_obj\u001b[0m\u001b[0;34m,\u001b[0m \u001b[0mself\u001b[0m\u001b[0;34m.\u001b[0m\u001b[0maxis\u001b[0m\u001b[0;34m)\u001b[0m\u001b[0;34m\u001b[0m\u001b[0;34m\u001b[0m\u001b[0m\n\u001b[0m\u001b[1;32m    743\u001b[0m \u001b[0;34m\u001b[0m\u001b[0m\n\u001b[1;32m    744\u001b[0m         return self._wrap_applied_output(\n",
      "\u001b[0;32m/opt/tljh/user/lib/python3.6/site-packages/pandas/core/groupby/ops.py\u001b[0m in \u001b[0;36mapply\u001b[0;34m(self, f, data, axis)\u001b[0m\n\u001b[1;32m    235\u001b[0m             \u001b[0;31m# group might be modified\u001b[0m\u001b[0;34m\u001b[0m\u001b[0;34m\u001b[0m\u001b[0;34m\u001b[0m\u001b[0m\n\u001b[1;32m    236\u001b[0m             \u001b[0mgroup_axes\u001b[0m \u001b[0;34m=\u001b[0m \u001b[0m_get_axes\u001b[0m\u001b[0;34m(\u001b[0m\u001b[0mgroup\u001b[0m\u001b[0;34m)\u001b[0m\u001b[0;34m\u001b[0m\u001b[0;34m\u001b[0m\u001b[0m\n\u001b[0;32m--> 237\u001b[0;31m             \u001b[0mres\u001b[0m \u001b[0;34m=\u001b[0m \u001b[0mf\u001b[0m\u001b[0;34m(\u001b[0m\u001b[0mgroup\u001b[0m\u001b[0;34m)\u001b[0m\u001b[0;34m\u001b[0m\u001b[0;34m\u001b[0m\u001b[0m\n\u001b[0m\u001b[1;32m    238\u001b[0m             \u001b[0;32mif\u001b[0m \u001b[0;32mnot\u001b[0m \u001b[0m_is_indexed_like\u001b[0m\u001b[0;34m(\u001b[0m\u001b[0mres\u001b[0m\u001b[0;34m,\u001b[0m \u001b[0mgroup_axes\u001b[0m\u001b[0;34m)\u001b[0m\u001b[0;34m:\u001b[0m\u001b[0;34m\u001b[0m\u001b[0;34m\u001b[0m\u001b[0m\n\u001b[1;32m    239\u001b[0m                 \u001b[0mmutated\u001b[0m \u001b[0;34m=\u001b[0m \u001b[0;32mTrue\u001b[0m\u001b[0;34m\u001b[0m\u001b[0;34m\u001b[0m\u001b[0m\n",
      "\u001b[0;31mTypeError\u001b[0m: int() argument must be a string, a bytes-like object or a number, not 'DataFrame'"
     ]
    }
   ],
   "source": [
    "a.groupby(['SRR', 'CDD']).apply(int).to_dic()"
   ]
  },
  {
   "cell_type": "code",
   "execution_count": null,
   "metadata": {},
   "outputs": [],
   "source": [
    "df_ = pd.DataFrame(index=set(a[\"SRR\"].tolist()), columns=[a[\"CDD\"].tolist()]).transpose()\n",
    "df_.head()"
   ]
  },
  {
   "cell_type": "code",
   "execution_count": null,
   "metadata": {},
   "outputs": [],
   "source": [
    "pd.DataFrame(df.groupby(['SRR']).count().sort_values(['CDD'], ascending=False)).iloc[:,1]"
   ]
  },
  {
   "cell_type": "markdown",
   "metadata": {},
   "source": [
    "Most CDD hits in SRR5678966"
   ]
  },
  {
   "cell_type": "code",
   "execution_count": null,
   "metadata": {},
   "outputs": [],
   "source": [
    "df[df['SRR'] == \"SRR5678966\"].groupby(\"CDD\").count().sort_values('contig_id', ascending=False).iloc[:,1]"
   ]
  },
  {
   "cell_type": "code",
   "execution_count": null,
   "metadata": {},
   "outputs": [],
   "source": [
    "df_cddcount_.iloc()"
   ]
  },
  {
   "cell_type": "markdown",
   "metadata": {},
   "source": [
    "Plots of distribution of scores"
   ]
  },
  {
   "cell_type": "code",
   "execution_count": null,
   "metadata": {},
   "outputs": [],
   "source": [
    "df['pident'].plot.hist(bins=25)"
   ]
  },
  {
   "cell_type": "code",
   "execution_count": null,
   "metadata": {},
   "outputs": [],
   "source": [
    "df.groupby(\"contig_id\").count().sort_values([\"CDD\"], ascending=False)"
   ]
  },
  {
   "cell_type": "markdown",
   "metadata": {},
   "source": [
    "Distribution of number of domain per contigs"
   ]
  },
  {
   "cell_type": "code",
   "execution_count": null,
   "metadata": {},
   "outputs": [],
   "source": [
    "df.groupby(\"contig_id\").count()['CDD'].plot.hist(range=(0,20000), log=True)"
   ]
  },
  {
   "cell_type": "code",
   "execution_count": null,
   "metadata": {},
   "outputs": [],
   "source": [
    "contig_df = df[df.contig_id.str.contains('^Contig_')]\n",
    "contig_df.head()"
   ]
  },
  {
   "cell_type": "code",
   "execution_count": null,
   "metadata": {},
   "outputs": [],
   "source": [
    "contig_df.groupby(\"contig_id\").count().sort_values([\"CDD\"], ascending=False)['pident'].plot.hist(range=(0,250),log=True)"
   ]
  },
  {
   "cell_type": "code",
   "execution_count": null,
   "metadata": {},
   "outputs": [],
   "source": []
  }
 ],
 "metadata": {
  "kernelspec": {
   "display_name": "Python 3",
   "language": "python",
   "name": "python3"
  },
  "language_info": {
   "codemirror_mode": {
    "name": "ipython",
    "version": 3
   },
   "file_extension": ".py",
   "mimetype": "text/x-python",
   "name": "python",
   "nbconvert_exporter": "python",
   "pygments_lexer": "ipython3",
   "version": "3.6.7"
  }
 },
 "nbformat": 4,
 "nbformat_minor": 2
}
